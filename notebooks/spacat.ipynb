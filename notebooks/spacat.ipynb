{
 "cells": [
  {
   "cell_type": "code",
   "execution_count": null,
   "metadata": {
    "tags": []
   },
   "outputs": [],
   "source": [
    "import os\n",
    "from pathlib import Path\n",
    "import torch\n",
    "from torch.utils.data import DataLoader\n",
    "from torchvision.transforms.functional import pil_to_tensor\n",
    "from huggingface_hub import hf_hub_download\n",
    "from PIL import Image, ImageShow\n",
    "import PIL\n",
    "from diffusers import AutoencoderKL, UNet2DConditionModel, DDPMScheduler\n",
    "from diffusers.utils import make_image_grid\n",
    "from IPython.core.debugger import Pdb\n",
    "import cv2\n",
    "import numpy as np\n",
    "from src.models.attention_processor import SkipAttnProcessor\n",
    "from src.pipelines.spacat_pipeline import TryOnPipeline\n",
    "from src.dataset.vitonhd import VITONHDDataset\n",
    "from src.utils import get_project_root, show, init_attn_processor"
   ]
  },
  {
   "cell_type": "code",
   "execution_count": null,
   "metadata": {
    "tags": []
   },
   "outputs": [],
   "source": [
    "def merge(\n",
    "    img1: PIL.Image.Image,\n",
    "    img2: PIL.Image.Image\n",
    ") -> PIL.Image.Image:\n",
    "    assert img1.size[1] == img2.size[1]\n",
    "    h, w = img1.size[1], img1.size[0]\n",
    "    w2 = img2.size[0]\n",
    "    img = Image.new('RGB', (w + w2, h))\n",
    "    img.paste(img1, (0, 0))\n",
    "    img.paste(img2, (w, 0))\n",
    "    return img"
   ]
  },
  {
   "cell_type": "code",
   "execution_count": null,
   "metadata": {
    "tags": []
   },
   "outputs": [],
   "source": [
    "\"\"\" Download models from Huggingface Hub\n",
    "\"\"\"\n",
    "PROJECT_ROOT_PATH = get_project_root()\n",
    "repo_id = 'bui/Navier-1'\n",
    "base_folder = 'ckpt-75000'\n",
    "\n",
    "# unet\n",
    "unet_path = hf_hub_download(\n",
    "    repo_id=repo_id,\n",
    "    subfolder=os.path.join(base_folder, 'unet'),\n",
    "    filename='diffusion_pytorch_model.safetensors',\n",
    "    local_dir=os.path.join(PROJECT_ROOT_PATH, 'checkpoints', 'navier-1')\n",
    ")\n",
    "hf_hub_download(\n",
    "    repo_id=repo_id,\n",
    "    subfolder=os.path.join(base_folder, 'unet'),\n",
    "    filename='config.json',\n",
    "    local_dir=os.path.join(PROJECT_ROOT_PATH, 'checkpoints', 'navier-1')\n",
    ")\n",
    "\n",
    "# vae\n",
    "hf_hub_download(\n",
    "    repo_id=repo_id,\n",
    "    subfolder=os.path.join(base_folder, 'vae'),\n",
    "    filename='diffusion_pytorch_model.safetensors',\n",
    "    local_dir=os.path.join(PROJECT_ROOT_PATH, 'checkpoints', 'navier-1')\n",
    ")\n",
    "hf_hub_download(\n",
    "    repo_id=repo_id,\n",
    "    subfolder=os.path.join(base_folder, 'vae'),\n",
    "    filename='config.json',\n",
    "    local_dir=os.path.join(PROJECT_ROOT_PATH, 'checkpoints', 'navier-1')\n",
    ")\n",
    "# scheduler\n",
    "hf_hub_download(\n",
    "    repo_id=repo_id,\n",
    "    subfolder=os.path.join(base_folder, 'scheduler'),\n",
    "    filename='scheduler_config.json',\n",
    "    local_dir=os.path.join(PROJECT_ROOT_PATH, 'checkpoints', 'navier-1')\n",
    ")\n",
    "# model_index.json\n",
    "hf_hub_download(\n",
    "    repo_id=repo_id,\n",
    "    subfolder=base_folder,\n",
    "    filename='model_index.json',\n",
    "    local_dir=os.path.join(PROJECT_ROOT_PATH, 'checkpoints', 'navier-1')\n",
    ")\n",
    "\n",
    "model_root_path = os.path.dirname(os.path.dirname(unet_path))\n",
    "model_root_path"
   ]
  },
  {
   "cell_type": "code",
   "execution_count": null,
   "metadata": {
    "tags": []
   },
   "outputs": [],
   "source": [
    "vae = AutoencoderKL.from_pretrained(\n",
    "    model_root_path,\n",
    "    subfolder='vae',\n",
    "    torch_dtype=torch.float16\n",
    ")\n",
    "scheduler = DDPMScheduler.from_pretrained(\n",
    "    model_root_path,\n",
    "    subfolder='scheduler'\n",
    ")\n",
    "\n",
    "unet = UNet2DConditionModel.from_pretrained(\n",
    "    model_root_path,\n",
    "    subfolder='unet',\n",
    "    torch_dtype=torch.float16\n",
    ")\n",
    "init_attn_processor(unet, cross_attn_cls=SkipAttnProcessor)\n",
    "\n",
    "device = 'cuda' if torch.cuda.is_available() else 'cpu'"
   ]
  },
  {
   "cell_type": "code",
   "execution_count": null,
   "metadata": {},
   "outputs": [],
   "source": [
    "test_dataset = VITONHDDataset(\n",
    "    data_rootpath=os.path.join(PROJECT_ROOT_PATH, 'datasets', 'vitonhd'),\n",
    "    use_trainset=False,\n",
    "    height=512,\n",
    "    width=384,\n",
    "    use_CLIPVision=True\n",
    ")\n",
    "\n",
    "bs = 8 # must multiple of 4\n",
    "f = 30 # for comparison\n",
    "generator = torch.manual_seed(1996 + bs*f)\n",
    "test_dataloader = DataLoader(\n",
    "    test_dataset,\n",
    "    batch_size=bs,\n",
    "    shuffle=True,\n",
    "    num_workers=4,\n",
    "    pin_memory=True,\n",
    "    generator=generator,\n",
    ")"
   ]
  },
  {
   "cell_type": "code",
   "execution_count": null,
   "metadata": {
    "tags": []
   },
   "outputs": [],
   "source": [
    "pipe = TryOnPipeline(\n",
    "    unet=unet,\n",
    "    vae=vae,\n",
    "    scheduler=scheduler\n",
    ").to(device)"
   ]
  },
  {
   "cell_type": "code",
   "execution_count": null,
   "metadata": {},
   "outputs": [],
   "source": [
    "\"\"\" Generate try-on image and concat with its original one (for qualitative comparison)\n",
    "then build the image grid of all of generated pairs and save it to disk.\n",
    "\"\"\"\n",
    "h, w = 512, 384\n",
    "use_poisson_blending = False\n",
    "display_mask = True\n",
    "img_list = []\n",
    "max_run = 5\n",
    "with torch.inference_mode():\n",
    "    with torch.amp.autocast(device):\n",
    "        for idx, batch in enumerate(test_dataloader):\n",
    "            if idx < max_run:\n",
    "                images = pipe(\n",
    "                    image=batch['image'].to(device),\n",
    "                    mask_image=batch['mask'].to(device),\n",
    "                    densepose_image=batch['densepose'].to(device),\n",
    "                    cloth_image=batch['cloth_raw'].to(device),\n",
    "                    height=h,\n",
    "                    width=w,\n",
    "                    generator=generator,\n",
    "                ).images\n",
    "                for img, origin_img_path, mask_path in zip(images, batch['original_image_path'], batch['original_mask_path']):\n",
    "                    origin_img = Image.open(origin_img_path).resize((w, h))\n",
    "                    mask_img = Image.open(mask_path).resize((w, h))\n",
    "                    if use_poisson_blending:\n",
    "                        np_img = np.array(img)\n",
    "                        np_origin_img = np.array(origin_img)\n",
    "                        mask = Image.open(mask_path).convert('L').resize((w, h))\n",
    "                        np_mask = np.array(mask)\n",
    "                        np_mask = 255 - np_mask\n",
    "                        blended_img = cv2.seamlessClone(np_origin_img, np_img, np_mask, (w//2, h//2), cv2.NORMAL_CLONE)\n",
    "                        gen_img = Image.fromarray(blended_img)\n",
    "                        merged_img = merge(gen_img, origin_img)\n",
    "                        if display_mask:\n",
    "                            merged_img = merge(merged_img, mask)\n",
    "                        img_list.append(merged_img)\n",
    "                    else:\n",
    "                        merged_img = merge(img, origin_img)\n",
    "                        img_list.append(merged_img)\n",
    "                # break\n",
    "del pipe\n",
    "torch.cuda.empty_cache()"
   ]
  },
  {
   "cell_type": "code",
   "execution_count": null,
   "metadata": {
    "tags": []
   },
   "outputs": [],
   "source": [
    "grid = make_image_grid(\n",
    "    images=img_list,\n",
    "    rows=bs*max_run // 4,\n",
    "    cols=4\n",
    ")\n",
    "grid"
   ]
  },
  {
   "cell_type": "code",
   "execution_count": null,
   "metadata": {
    "tags": []
   },
   "outputs": [],
   "source": [
    "# save_path = os.path.join(PROJECT_ROOT_PATH, 'results', 'navier-1', 'beta', base_folder)\n",
    "# os.makedirs(save_path, exist_ok=True)\n",
    "# fname = f'bs{bs}-f{f}-poisson.png' if use_poisson_blending else f'bs{bs}-f{f}.png'\n",
    "# grid.save(Path(save_path, fname))"
   ]
  },
  {
   "cell_type": "code",
   "execution_count": null,
   "metadata": {},
   "outputs": [],
   "source": [
    "# single_batch_test = next(iter(test_dataloader))\n",
    "# idx = 0\n",
    "# show(torch.cat([\n",
    "#         single_batch_test['original_image'][idx],\n",
    "#         single_batch_test['original_mask'][idx],\n",
    "#         single_batch_test['cloth_raw'][idx],\n",
    "#         single_batch_test['original_densepose'][idx]\n",
    "#     ], dim=-1), title=single_batch_test['im_name'][idx]\n",
    "# )"
   ]
  },
  {
   "cell_type": "code",
   "execution_count": null,
   "metadata": {
    "tags": []
   },
   "outputs": [],
   "source": [
    "# print(single_batch_test['image'].shape)\n",
    "# print(single_batch_test['mask'].shape)\n",
    "# print(single_batch_test['densepose'].shape)\n",
    "# print(single_batch_test['cloth_raw'].shape)"
   ]
  },
  {
   "cell_type": "code",
   "execution_count": null,
   "metadata": {
    "tags": []
   },
   "outputs": [],
   "source": [
    "# h, w = 512, 384\n",
    "# images = pipe(\n",
    "#     image=single_batch_test['image'].to(device),\n",
    "#     mask_image=single_batch_test['mask'].to(device),\n",
    "#     densepose_image=single_batch_test['densepose'].to(device),\n",
    "#     cloth_image=single_batch_test['cloth_raw'].to(device),\n",
    "#     height=h,\n",
    "#     width=w\n",
    "# ).images"
   ]
  }
 ],
 "metadata": {
  "environment": {
   "kernel": ".venv",
   "name": "workbench-notebooks.m125",
   "type": "gcloud",
   "uri": "us-docker.pkg.dev/deeplearning-platform-release/gcr.io/workbench-notebooks:m125"
  },
  "kernelspec": {
   "display_name": "spacat",
   "language": "python",
   "name": ".venv"
  },
  "language_info": {
   "codemirror_mode": {
    "name": "ipython",
    "version": 3
   },
   "file_extension": ".py",
   "mimetype": "text/x-python",
   "name": "python",
   "nbconvert_exporter": "python",
   "pygments_lexer": "ipython3",
   "version": "3.9.2"
  }
 },
 "nbformat": 4,
 "nbformat_minor": 4
}
