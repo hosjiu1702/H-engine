{
 "cells": [
  {
   "cell_type": "code",
   "execution_count": null,
   "id": "9429747f-1fb1-476b-9513-a03e8fa51712",
   "metadata": {
    "tags": []
   },
   "outputs": [],
   "source": [
    "from os import path as osp\n",
    "from tqdm import tqdm\n",
    "import torch\n",
    "from torch.utils.data import ConcatDataset, DataLoader\n",
    "from src.dataset.dresscode import DressCodeDataset\n",
    "from src.dataset.vitonhd import VITONHDDataset\n",
    "from src.utils import get_project_root\n",
    "\n",
    "PROJECT_ROOT_PATH = get_project_root()"
   ]
  },
  {
   "cell_type": "code",
   "execution_count": null,
   "id": "2de35ce7-bbf5-44f6-b3b1-13f2aa7ad839",
   "metadata": {
    "tags": []
   },
   "outputs": [],
   "source": [
    "# DRESSCODE\n",
    "rootpath = '/hosjiu/data/DressCode/'\n",
    "w, h = (384, 512)\n",
    "dc_dataset = DressCodeDataset(\n",
    "    rootpath, phase='train', h=h, w=w,\n",
    "    use_dilated_relaxed_mask=True\n",
    ")\n",
    "\n",
    "# VITON-HD\n",
    "rootpath = osp.join(PROJECT_ROOT_PATH, 'datasets', 'vitonhd')\n",
    "hd_dataset = VITONHDDataset(\n",
    "    rootpath,\n",
    "    height=h,\n",
    "    width=w,\n",
    "    use_dilated_relaxed_mask=True\n",
    ")\n",
    "\n",
    "concat_dataset = ConcatDataset([hd_dataset, dc_dataset])\n",
    "concat_dataset"
   ]
  },
  {
   "cell_type": "code",
   "execution_count": null,
   "id": "8d57a40a-fec5-438a-99c5-3b8d0f2655a4",
   "metadata": {
    "tags": []
   },
   "outputs": [],
   "source": [
    "len(concat_dataset)"
   ]
  },
  {
   "cell_type": "code",
   "execution_count": null,
   "id": "6e16913e-71f6-403b-8516-564bce8e0017",
   "metadata": {
    "tags": []
   },
   "outputs": [],
   "source": [
    "dataloader = DataLoader(concat_dataset, shuffle=True, batch_size=32)"
   ]
  },
  {
   "cell_type": "code",
   "execution_count": null,
   "id": "20f5d204-47eb-405f-9ecd-6375714dc8d4",
   "metadata": {
    "tags": []
   },
   "outputs": [],
   "source": [
    "try:\n",
    "    for batch in tqdm(dataloader):\n",
    "        continue\n",
    "except RuntimeError:\n",
    "    from IPython.core.debugger import Pdb\n",
    "    Pdb().set_trace()"
   ]
  }
 ],
 "metadata": {
  "environment": {
   "kernel": ".venv",
   "name": "workbench-notebooks.m125",
   "type": "gcloud",
   "uri": "us-docker.pkg.dev/deeplearning-platform-release/gcr.io/workbench-notebooks:m125"
  },
  "kernelspec": {
   "display_name": "venv-latest",
   "language": "python",
   "name": ".venv"
  },
  "language_info": {
   "codemirror_mode": {
    "name": "ipython",
    "version": 3
   },
   "file_extension": ".py",
   "mimetype": "text/x-python",
   "name": "python",
   "nbconvert_exporter": "python",
   "pygments_lexer": "ipython3",
   "version": "3.8.16"
  }
 },
 "nbformat": 4,
 "nbformat_minor": 5
}
